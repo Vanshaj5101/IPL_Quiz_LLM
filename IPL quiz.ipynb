{
 "cells": [
  {
   "cell_type": "code",
   "execution_count": 1,
   "id": "4e691052-70e4-41b7-9670-1f88ffe995d9",
   "metadata": {},
   "outputs": [],
   "source": [
    "from secret_key import secret_key_1\n",
    "import os\n",
    "from langchain_openai import OpenAI"
   ]
  },
  {
   "cell_type": "code",
   "execution_count": 2,
   "id": "ff41193c-fb07-4f9f-a5f5-a638eacbfedb",
   "metadata": {},
   "outputs": [],
   "source": [
    "os.environ['OPENAI_API_KEY'] = secret_key_1"
   ]
  },
  {
   "cell_type": "code",
   "execution_count": 3,
   "id": "8b4c5544-24dc-45c4-ac49-bfd0f7732e02",
   "metadata": {},
   "outputs": [],
   "source": [
    "llm = OpenAI(temperature=0.6)\n"
   ]
  },
  {
   "cell_type": "code",
   "execution_count": 4,
   "id": "98b14312-e825-410d-ae8c-b40b4d01a1cf",
   "metadata": {},
   "outputs": [],
   "source": [
    "from langchain.prompts import PromptTemplate\n",
    "from langchain.chains import LLMChain\n",
    "\n",
    "ipl_category = PromptTemplate(\n",
    "    input_variables = ['category'],\n",
    "    template = \"Give me a sports trivia about Indian Premier League {category} with options. I'll give you an answer for the same.\"\n",
    ")\n",
    "\n",
    "category_chain = LLMChain(llm=llm, prompt = ipl_category, output_key = \"Question\")\n",
    "\n",
    "ans_prompt = PromptTemplate(\n",
    "    input_variables = ['option_selected'],\n",
    "    template = \"Is {option_selected} is the right answer?\"\n",
    ")\n",
    "\n",
    "ans_chain = LLMChain(llm=llm, prompt = ans_prompt, output_key = \"User_Answer\")"
   ]
  },
  {
   "cell_type": "code",
   "execution_count": 5,
   "id": "8155af27-ac58-4f2c-90a1-5e7123fdb67c",
   "metadata": {},
   "outputs": [
    {
     "data": {
      "text/plain": [
       "{'category': 'Bowler',\n",
       " 'category_selected': '\\n\\nQuestion: Who is the only bowler in Indian Premier League history to take a hat-trick in the first over of a match?\\n\\nA) Lasith Malinga\\nB) Amit Mishra\\nC) Pravin Tambe\\nD) Andrew Tye\\n\\nAnswer: C) Pravin Tambe',\n",
       " 'user_answer': ''}"
      ]
     },
     "execution_count": 5,
     "metadata": {},
     "output_type": "execute_result"
    }
   ],
   "source": [
    "from langchain.prompts import PromptTemplate\n",
    "from langchain.chains import LLMChain\n",
    "from langchain.chains import SequentialChain\n",
    "\n",
    "\n",
    "ipl_category = PromptTemplate(\n",
    "    input_variables = ['category'],\n",
    "    template = \"Give me a sports trivia about Indian Premier League {category} with options. I'll give you an answer for the same.\"\n",
    ")\n",
    "\n",
    "category_chain = LLMChain(llm=llm, prompt = ipl_category, output_key = \"category_selected\")\n",
    "\n",
    "ans_prompt = PromptTemplate(\n",
    "    input_variables = ['category_selected'],\n",
    "    template = \"Is {category_selected} is the right answer?\"\n",
    ")\n",
    "\n",
    "ans_chain = LLMChain(llm=llm, prompt = ans_prompt, output_key = \"user_answer\")\n",
    "\n",
    "prompt_chain = SequentialChain(chains = [category_chain, ans_chain],\n",
    "                              input_variables = ['category'],\n",
    "                              output_variables = ['category_selected', \"user_answer\"]\n",
    ")\n",
    "\n",
    "prompt_chain.invoke({'category':'Bowler'})"
   ]
  },
  {
   "cell_type": "code",
   "execution_count": 100,
   "id": "86cd57ca-2873-4702-af37-109088d74ffe",
   "metadata": {},
   "outputs": [
    {
     "data": {
      "text/plain": [
       "\"Generate one sports quiz related to Indian Premier League related to a Bowler from Royal Challengers Banglore team and provide 4 options of possible answer. Only give question and 4 option as the output, don't give any other thing in the output. Don't give the answer, I'll give the answer\""
      ]
     },
     "execution_count": 100,
     "metadata": {},
     "output_type": "execute_result"
    }
   ],
   "source": [
    "from langchain.memory import ConversationBufferWindowMemory\n",
    "from langchain.chains import ConversationChain\n",
    "\n",
    "memory = ConversationBufferWindowMemory(k=1)\n",
    "\n",
    "convo = ConversationChain(\n",
    "    llm = llm,\n",
    "    memory = memory\n",
    ")\n",
    "\n",
    "category_input = \"Bowler\"\n",
    "team_input = \"Royal Challengers Banglore\"\n",
    "\n",
    "que_prompt = PromptTemplate(\n",
    "    input_variables = ['category_input', 'team_input'],\n",
    "    template = \"Generate one sports quiz related to Indian Premier League related to a {category_input} from {team_input} team and provide 4 options of possible answer. Only give question and 4 option as the output, don't give any other thing in the output. Don't give the answer, I'll give the answer\"\n",
    ")\n",
    "que_chain = LLMChain(llm=llm, prompt=que_prompt, output_key='question')\n",
    "\n",
    "que_prompt.format(category_input=category_input,team_input=team_input)\n",
    "\n"
   ]
  },
  {
   "cell_type": "code",
   "execution_count": 101,
   "id": "a229949e-98cc-4526-9375-dd190f2abb79",
   "metadata": {},
   "outputs": [
    {
     "data": {
      "text/plain": [
       "' Sure, here is your sports quiz question: Which bowler from the Royal Challengers Bangalore team has the most wickets in the Indian Premier League? A) Yuzvendra Chahal B) Umesh Yadav C) Mohammed Siraj D) Navdeep Saini'"
      ]
     },
     "execution_count": 101,
     "metadata": {},
     "output_type": "execute_result"
    }
   ],
   "source": [
    "convo.run(que_prompt.format(category_input=category_input,team_input=team_input))"
   ]
  },
  {
   "cell_type": "code",
   "execution_count": 96,
   "id": "ee916b3a-28f7-4f28-8fff-21c989383a0a",
   "metadata": {},
   "outputs": [
    {
     "data": {
      "text/plain": [
       "' That is correct! Yuzvendra Chahal holds the record for the most wickets in a single IPL season for Royal Challengers Bangalore with 21 wickets in the 2019 season. Well done!'"
      ]
     },
     "execution_count": 96,
     "metadata": {},
     "output_type": "execute_result"
    }
   ],
   "source": [
    "convo.run('Yuzvendra Chahal')\n"
   ]
  },
  {
   "cell_type": "code",
   "execution_count": 98,
   "id": "92073fd1-5b4c-4ef1-9513-8d94e3d2306f",
   "metadata": {},
   "outputs": [],
   "source": [
    "convo.memory.clear()"
   ]
  },
  {
   "cell_type": "code",
   "execution_count": 99,
   "id": "09e2c12d-e99b-4567-9252-13e8edb603ec",
   "metadata": {},
   "outputs": [
    {
     "data": {
      "text/plain": [
       "''"
      ]
     },
     "execution_count": 99,
     "metadata": {},
     "output_type": "execute_result"
    }
   ],
   "source": [
    "convo.memory.buffer"
   ]
  },
  {
   "cell_type": "code",
   "execution_count": 102,
   "id": "cf5c20c9-89e1-4faa-ace2-fa318ce8040d",
   "metadata": {},
   "outputs": [
    {
     "data": {
      "text/plain": [
       "\"Generate one sports quiz related to Indian Premier League related to a Bowler from Royal Challengers Banglore team. Only give question, don't give any other thing in the output. Don't give the answer, I'll give the answer\""
      ]
     },
     "execution_count": 102,
     "metadata": {},
     "output_type": "execute_result"
    }
   ],
   "source": [
    "from langchain.memory import ConversationBufferWindowMemory\n",
    "from langchain.chains import ConversationChain\n",
    "\n",
    "memory = ConversationBufferWindowMemory(k=2)\n",
    "\n",
    "convo = ConversationChain(\n",
    "    llm = llm,\n",
    "    memory = memory\n",
    ")\n",
    "\n",
    "category_input = \"Bowler\"\n",
    "team_input = \"Royal Challengers Banglore\"\n",
    "\n",
    "que_prompt = PromptTemplate(\n",
    "    input_variables = ['category_input', 'team_input'],\n",
    "    template = \"Generate one sports quiz related to Indian Premier League related to a {category_input} from {team_input} team. Only give question, don't give any other thing in the output. Don't give the answer, I'll give the answer\"\n",
    ")\n",
    "que_chain = LLMChain(llm=llm, prompt=que_prompt, output_key='question')\n",
    "\n",
    "que_prompt.format(category_input=category_input,team_input=team_input)\n",
    "\n"
   ]
  },
  {
   "cell_type": "code",
   "execution_count": 103,
   "id": "dc332068-a269-4727-905b-291c2b12859e",
   "metadata": {},
   "outputs": [
    {
     "data": {
      "text/plain": [
       "' Sure, here is a question for you: Which bowler from the Royal Challengers Bangalore team has the most wickets in the Indian Premier League?'"
      ]
     },
     "execution_count": 103,
     "metadata": {},
     "output_type": "execute_result"
    }
   ],
   "source": [
    "convo.run(que_prompt.format(category_input=category_input,team_input=team_input))"
   ]
  },
  {
   "cell_type": "code",
   "execution_count": 104,
   "id": "5dbf067d-7778-4464-a952-42526d4ab0d7",
   "metadata": {},
   "outputs": [
    {
     "data": {
      "text/plain": [
       "' The options are: A) Yuzvendra Chahal, B) Umesh Yadav, C) Mohammed Siraj, D) Navdeep Saini.'"
      ]
     },
     "execution_count": 104,
     "metadata": {},
     "output_type": "execute_result"
    }
   ],
   "source": [
    "convo.run('Provide option for the above questions')"
   ]
  },
  {
   "cell_type": "code",
   "execution_count": 105,
   "id": "b6e3290b-ee3e-4a0c-9163-b2a94572aa2f",
   "metadata": {},
   "outputs": [
    {
     "data": {
      "text/plain": [
       "' That is incorrect. The correct answer is Yuzvendra Chahal, who has taken 121 wickets in the IPL for the Royal Challengers Bangalore team. Would you like another question?'"
      ]
     },
     "execution_count": 105,
     "metadata": {},
     "output_type": "execute_result"
    }
   ],
   "source": [
    "convo.run('Umesh Yadav')"
   ]
  },
  {
   "cell_type": "code",
   "execution_count": 107,
   "id": "f90910a8-0e0b-4d20-80f4-4118213e3c96",
   "metadata": {},
   "outputs": [
    {
     "data": {
      "text/plain": [
       "' Sure, I would be happy to help you create a quiz game for the Indian Premier League. Please provide me with a category and a team to generate a quiz for.'"
      ]
     },
     "execution_count": 107,
     "metadata": {},
     "output_type": "execute_result"
    }
   ],
   "source": [
    "theme = \"\"\"\n",
    "    I want you to help me making a quiz game. following in this conversation, I will provide you a category and a team,\n",
    "    I want you to generate a quiz for that category and team of Indian Premier League. Here, for the first response,\n",
    "    I only want you to give question or quiz, not any option or hint untill asked for. \n",
    "\n",
    "    Then in the next prompt, I will ask for 4 options for the same. Here I only want you to return\n",
    "    options in following manner:\n",
    "    A)\n",
    "    B)\n",
    "    C)\n",
    "    D)\n",
    "\n",
    "    And for the last prompt I will try to answer the quiz then you can verify it.\n",
    "\n",
    "\"\"\"\n",
    "convo.run(theme)"
   ]
  },
  {
   "cell_type": "code",
   "execution_count": 108,
   "id": "0c1a8e36-1bb0-4450-a1df-58ede054d42a",
   "metadata": {},
   "outputs": [
    {
     "data": {
      "text/plain": [
       "' Here is your quiz question: Who is the leading wicket-taker for the Chennai Super Kings team in the Indian Premier League?'"
      ]
     },
     "execution_count": 108,
     "metadata": {},
     "output_type": "execute_result"
    }
   ],
   "source": [
    "convo.run('Bowler, Chennai Super Kings')"
   ]
  },
  {
   "cell_type": "code",
   "execution_count": 109,
   "id": "5b0daf7b-a345-47e5-9d79-56a1e473da5d",
   "metadata": {},
   "outputs": [
    {
     "data": {
      "text/plain": [
       "' A) Dwayne Bravo\\nB) Ravindra Jadeja\\nC) Imran Tahir\\nD) Harbhajan Singh'"
      ]
     },
     "execution_count": 109,
     "metadata": {},
     "output_type": "execute_result"
    }
   ],
   "source": [
    "convo.run(\"provide opitons\")"
   ]
  },
  {
   "cell_type": "code",
   "execution_count": 110,
   "id": "8668b28d-4de1-4145-b419-977424ec3b05",
   "metadata": {},
   "outputs": [
    {
     "data": {
      "text/plain": [
       "' Sorry, that is incorrect. The correct answer is Dwayne Bravo with 147 wickets in 120 matches.'"
      ]
     },
     "execution_count": 110,
     "metadata": {},
     "output_type": "execute_result"
    }
   ],
   "source": [
    "convo.run(\"answer is A\")"
   ]
  },
  {
   "cell_type": "code",
   "execution_count": 116,
   "id": "8ee21968-02b4-4766-b488-f08a37a5d0a6",
   "metadata": {},
   "outputs": [
    {
     "name": "stdout",
     "output_type": "stream",
     "text": [
      "Extracted data: Which player has taken the most catches for Delhi Capitals in the Indian Premier League?\n"
     ]
    }
   ],
   "source": [
    "import regex as re\n",
    "\n",
    "t = \"\"\"\n",
    "Here is a question for the category \"Team\" and team \"Delhi Capitals\":\n",
    "\n",
    "Which player has taken the most catches for Delhi Capitals in the Indian Premier League?\n",
    "\n",
    "Remember, don't worry about the options yet, I will provide those in the next prompt. Just focus on the question for now.\n",
    "\"\"\"\n",
    "\n",
    "pattern = r':(.*?\\?)'\n",
    "\n",
    "# Extract data using regex\n",
    "matches = re.findall(pattern, t, re.DOTALL)\n",
    "\n",
    "if matches:\n",
    "    for match in matches:\n",
    "        print(\"Extracted data:\", match.strip())\n"
   ]
  },
  {
   "cell_type": "code",
   "execution_count": null,
   "id": "e5886401-179e-4b48-baba-9b8ba690ab67",
   "metadata": {},
   "outputs": [],
   "source": []
  }
 ],
 "metadata": {
  "kernelspec": {
   "display_name": "Python 3 (ipykernel)",
   "language": "python",
   "name": "python3"
  },
  "language_info": {
   "codemirror_mode": {
    "name": "ipython",
    "version": 3
   },
   "file_extension": ".py",
   "mimetype": "text/x-python",
   "name": "python",
   "nbconvert_exporter": "python",
   "pygments_lexer": "ipython3",
   "version": "3.12.1"
  }
 },
 "nbformat": 4,
 "nbformat_minor": 5
}
