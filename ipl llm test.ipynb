{
 "cells": [
  {
   "cell_type": "code",
   "execution_count": 6,
   "id": "dcc473a7-32dd-46c2-b474-3e4d199fafa9",
   "metadata": {},
   "outputs": [],
   "source": [
    "from secret_key import secret_key_1\n",
    "import os\n",
    "from langchain_openai import OpenAI"
   ]
  },
  {
   "cell_type": "code",
   "execution_count": 7,
   "id": "47e3a69c-07b3-476c-8c40-166412077fbb",
   "metadata": {},
   "outputs": [],
   "source": [
    "os.environ['OPENAI_API_KEY'] = secret_key_1"
   ]
  },
  {
   "cell_type": "code",
   "execution_count": 8,
   "id": "e260abef-f26c-434f-a167-61e07c61669e",
   "metadata": {},
   "outputs": [
    {
     "data": {
      "text/plain": [
       "'\\n\\nWhat team holds the record for the most consecutive wins in a single IPL season?\\n\\nA) Chennai Super Kings\\nB) Mumbai Indians\\nC) Kolkata Knight Riders\\nD) Sunrisers Hyderabad'"
      ]
     },
     "execution_count": 8,
     "metadata": {},
     "output_type": "execute_result"
    }
   ],
   "source": [
    "llm = OpenAI(temperature=0.6)\n",
    "name = llm(\"Give me a sports trivia question about IPL and options for the same\")\n",
    "name"
   ]
  },
  {
   "cell_type": "code",
   "execution_count": 14,
   "id": "a42a7bc8-e687-4729-816e-93430e24323f",
   "metadata": {},
   "outputs": [],
   "source": [
    "from langchain.prompts import PromptTemplate\n",
    "from langchain.chains import LLMChain\n",
    "\n",
    "ipl_category = PromptTemplate(\n",
    "    input_variables = ['category'],\n",
    "    template = \"Give me a sports trivia about Indian Premier League {category} with options. I'll give you an answer for the same.\"\n",
    ")\n",
    "\n",
    "category_chain = LLMChain(llm=llm, prompt = ipl_category, output_key = \"Question\")\n",
    "\n",
    "ans_prompt = PromptTemplate(\n",
    "    input_variables = ['option_selected'],\n",
    "    template = \"Is {option_selected} is the right answer?\"\n",
    ")\n",
    "\n",
    "ans_chain = LLMChain(llm=llm, prompt = ans_prompt, output_key = \"User_Answer\")"
   ]
  },
  {
   "cell_type": "code",
   "execution_count": 13,
   "id": "267145c7-f16d-4f77-b3d6-84d3101db82d",
   "metadata": {},
   "outputs": [
    {
     "data": {
      "text/plain": [
       "{'category': 'Batsman',\n",
       " 'text': '\\n\\nQuestion: Who holds the record for the most centuries in the Indian Premier League?\\n\\nA) Virat Kohli\\nB) Rohit Sharma\\nC) Chris Gayle\\nD) AB de Villiers\\n\\nAnswer: C) Chris Gayle'}"
      ]
     },
     "execution_count": 13,
     "metadata": {},
     "output_type": "execute_result"
    }
   ],
   "source": [
    "category_chain.invoke('Batsman')"
   ]
  },
  {
   "cell_type": "code",
   "execution_count": 19,
   "id": "a296e9db-5527-410f-80fb-e42b80e2b3e1",
   "metadata": {},
   "outputs": [
    {
     "data": {
      "text/plain": [
       "{'category': 'Bowler',\n",
       " 'category_selected': '\\n\\nQuestion: Who is the only Indian Premier League bowler to take a hat-trick in the final of the tournament?\\n\\nA) Lasith Malinga\\nB) Amit Mishra\\nC) Sunil Narine\\nD) Rohit Sharma\\n\\nAnswer: B) Amit Mishra',\n",
       " 'user_answer': ''}"
      ]
     },
     "execution_count": 19,
     "metadata": {},
     "output_type": "execute_result"
    }
   ],
   "source": [
    "from langchain.prompts import PromptTemplate\n",
    "from langchain.chains import LLMChain\n",
    "from langchain.chains import SequentialChain\n",
    "\n",
    "\n",
    "ipl_category = PromptTemplate(\n",
    "    input_variables = ['category'],\n",
    "    template = \"Give me a sports trivia about Indian Premier League {category} with options. I'll give you an answer for the same.\"\n",
    ")\n",
    "\n",
    "category_chain = LLMChain(llm=llm, prompt = ipl_category, output_key = \"category_selected\")\n",
    "\n",
    "ans_prompt = PromptTemplate(\n",
    "    input_variables = ['category_selected'],\n",
    "    template = \"Is {category_selected} is the right answer?\"\n",
    ")\n",
    "\n",
    "ans_chain = LLMChain(llm=llm, prompt = ans_prompt, output_key = \"user_answer\")\n",
    "\n",
    "prompt_chain = SequentialChain(chains = [category_chain, ans_chain],\n",
    "                              input_variables = ['category'],\n",
    "                              output_variables = ['category_selected', \"user_answer\"]\n",
    ")\n",
    "\n",
    "prompt_chain.invoke({'category':'Bowler'})"
   ]
  },
  {
   "cell_type": "code",
   "execution_count": 22,
   "id": "92567cee-5928-499c-b474-860e62ae58d4",
   "metadata": {},
   "outputs": [
    {
     "name": "stdout",
     "output_type": "stream",
     "text": [
      "{'category': 'Bowler', 'category_selected': '\\n\\nQuestion: Who is the only bowler in Indian Premier League history to take a hat-trick in the final match?\\n\\nA) Lasith Malinga\\nB) Amit Mishra\\nC) Jaydev Unadkat\\nD) Pravin Tambe\\n\\nAnswer: A) Lasith Malinga'}\n"
     ]
    },
    {
     "name": "stdin",
     "output_type": "stream",
     "text": [
      "Enter your category_selected:  A\n"
     ]
    },
    {
     "name": "stdout",
     "output_type": "stream",
     "text": [
      "{'category': 'Bowler', 'category_selected': 'A', 'user_answer': '\\n\\nIt depends on the context of the question. Without more information, it is impossible to determine if A is the correct answer.'}\n",
      "Final user answer: \n",
      "\n",
      "It depends on the context of the question. Without more information, it is impossible to determine if A is the correct answer.\n"
     ]
    }
   ],
   "source": []
  },
  {
   "cell_type": "code",
   "execution_count": 26,
   "id": "dd931f91-b2ea-4d69-b9fb-54fbb1cde3ae",
   "metadata": {},
   "outputs": [],
   "source": [
    "from langchain.memory import ConversationBufferWindowMemory\n",
    "from langchain.chains import ConversationChain\n",
    "\n",
    "memory = ConversationBufferWindowMemory(k=1)\n",
    "\n",
    "convo = ConversationChain(\n",
    "    llm = llm,\n",
    "    memory = memory\n",
    ")\n",
    "\n"
   ]
  },
  {
   "cell_type": "code",
   "execution_count": 30,
   "id": "baec180d-99e8-4401-8a46-4890deb1e18a",
   "metadata": {},
   "outputs": [
    {
     "data": {
      "text/plain": [
       "' How about this one: Who holds the record for the highest individual score in an IPL match? Your options are Chris Gayle, AB de Villiers, Rishabh Pant, and Shane Watson.'"
      ]
     },
     "execution_count": 30,
     "metadata": {},
     "output_type": "execute_result"
    }
   ],
   "source": [
    "convo.run(\"Give me a question about Indian Premier League Batsman with options. I'll give you an answer for the same.\")\n"
   ]
  },
  {
   "cell_type": "code",
   "execution_count": 31,
   "id": "d2c9a035-0c65-4298-88d7-b79685b630ed",
   "metadata": {},
   "outputs": [
    {
     "data": {
      "text/plain": [
       "' Correct! Chris Gayle holds the record for the highest individual score in an IPL match, scoring 175 runs off just 66 balls in 2013.'"
      ]
     },
     "execution_count": 31,
     "metadata": {},
     "output_type": "execute_result"
    }
   ],
   "source": [
    "convo.run(\"Chris Gayle\")"
   ]
  },
  {
   "cell_type": "code",
   "execution_count": 32,
   "id": "daf15f7c-3988-4da0-8e00-89e4d04e23f8",
   "metadata": {},
   "outputs": [
    {
     "data": {
      "text/plain": [
       "\" Sure! The match was between the Royal Challengers Bangalore and the Pune Warriors India. Gayle's innings included 13 fours and 17 sixes, breaking numerous records and earning him the Man of the Match award. It was also the fastest century in T20 cricket at the time, achieved in just 30 balls. The match also saw a total of 263 runs scored, making it the highest scoring T20 match in history at the time.\""
      ]
     },
     "execution_count": 32,
     "metadata": {},
     "output_type": "execute_result"
    }
   ],
   "source": [
    "convo.run(\"tell me more about the above match\")"
   ]
  },
  {
   "cell_type": "code",
   "execution_count": 33,
   "id": "29995764-0513-4494-8d15-ff611e5a9ea3",
   "metadata": {},
   "outputs": [
    {
     "data": {
      "text/plain": [
       "'  29'"
      ]
     },
     "execution_count": 33,
     "metadata": {},
     "output_type": "execute_result"
    }
   ],
   "source": [
    "convo.run(\"what is 10+19\")"
   ]
  },
  {
   "cell_type": "code",
   "execution_count": 35,
   "id": "554af116-2630-4135-9460-87d176e9ade8",
   "metadata": {},
   "outputs": [
    {
     "data": {
      "text/plain": [
       "\" I'm sorry, I do not have enough context to accurately answer your question. Can you provide more information about the specific cricket match you are referring to?\""
      ]
     },
     "execution_count": 35,
     "metadata": {},
     "output_type": "execute_result"
    }
   ],
   "source": [
    "convo.run(\"tell me more about the above cricket match\")"
   ]
  },
  {
   "cell_type": "code",
   "execution_count": null,
   "id": "60d8abb6-5890-410d-b655-96460ab62e8d",
   "metadata": {},
   "outputs": [],
   "source": []
  }
 ],
 "metadata": {
  "kernelspec": {
   "display_name": "Python 3 (ipykernel)",
   "language": "python",
   "name": "python3"
  },
  "language_info": {
   "codemirror_mode": {
    "name": "ipython",
    "version": 3
   },
   "file_extension": ".py",
   "mimetype": "text/x-python",
   "name": "python",
   "nbconvert_exporter": "python",
   "pygments_lexer": "ipython3",
   "version": "3.12.1"
  }
 },
 "nbformat": 4,
 "nbformat_minor": 5
}
